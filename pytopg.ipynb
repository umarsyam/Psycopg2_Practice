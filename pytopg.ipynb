{
 "cells": [
  {
   "cell_type": "markdown",
   "id": "5c7c91a7",
   "metadata": {},
   "source": [
    "# Install Library"
   ]
  },
  {
   "cell_type": "code",
   "execution_count": 1,
   "id": "1e290e3b",
   "metadata": {},
   "outputs": [
    {
     "name": "stdout",
     "output_type": "stream",
     "text": [
      "Requirement already satisfied: psycopg2-binary in c:\\users\\umar syam\\anaconda3\\lib\\site-packages (2.9.6)\n"
     ]
    },
    {
     "name": "stderr",
     "output_type": "stream",
     "text": [
      "\n",
      "[notice] A new release of pip is available: 23.0 -> 23.0.1\n",
      "[notice] To update, run: python.exe -m pip install --upgrade pip\n"
     ]
    }
   ],
   "source": [
    "!pip install psycopg2-binary"
   ]
  },
  {
   "cell_type": "code",
   "execution_count": 2,
   "id": "6bd8e6b7",
   "metadata": {},
   "outputs": [],
   "source": [
    "# Import Library\n",
    "import psycopg2"
   ]
  },
  {
   "cell_type": "markdown",
   "id": "5cba86ca",
   "metadata": {},
   "source": [
    "# Connect to Postgre\n",
    "Create a new database session and return a new connection object. The basic connection parameters are:\n",
    "\n",
    "- dbname – the database name (database is a deprecated alias)\n",
    "- user – user name used to authenticate\n",
    "- password – password used to authenticate\n",
    "- host – database host address (defaults to UNIX socket if not provided)\n",
    "- port – connection port number (defaults to 5432 if not provided)"
   ]
  },
  {
   "cell_type": "code",
   "execution_count": null,
   "id": "c7088f64",
   "metadata": {},
   "outputs": [],
   "source": [
    "# conn stand for connection\n",
    "conn = psycopg2.connection(\n",
    "    dbname = \"\",\n",
    "    user = \"\",\n",
    "    password = \"\"\n",
    "    host = \"\",\n",
    "    port = \"\",\n",
    ")"
   ]
  }
 ],
 "metadata": {
  "kernelspec": {
   "display_name": "Python 3 (ipykernel)",
   "language": "python",
   "name": "python3"
  },
  "language_info": {
   "codemirror_mode": {
    "name": "ipython",
    "version": 3
   },
   "file_extension": ".py",
   "mimetype": "text/x-python",
   "name": "python",
   "nbconvert_exporter": "python",
   "pygments_lexer": "ipython3",
   "version": "3.9.12"
  }
 },
 "nbformat": 4,
 "nbformat_minor": 5
}
