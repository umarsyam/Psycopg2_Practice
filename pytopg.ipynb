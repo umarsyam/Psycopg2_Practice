{
 "cells": [
  {
   "cell_type": "markdown",
   "id": "1588a9b7",
   "metadata": {},
   "source": [
    "# Install Library"
   ]
  },
  {
   "cell_type": "code",
   "execution_count": null,
   "id": "ceaf7e72",
   "metadata": {},
   "outputs": [],
   "source": [
    "#!pip install psycopg2-binary\n",
    "#!pip install python-dotenv"
   ]
  },
  {
   "cell_type": "code",
   "execution_count": 4,
   "id": "391a290c",
   "metadata": {},
   "outputs": [],
   "source": [
    "# Import Library\n",
    "import psycopg2\n",
    "import os\n",
    "from dotenv import load_dotenv, find_dotenv"
   ]
  },
  {
   "cell_type": "code",
   "execution_count": 16,
   "id": "4f5bbb06",
   "metadata": {},
   "outputs": [
    {
     "data": {
      "text/plain": [
       "True"
      ]
     },
     "execution_count": 16,
     "metadata": {},
     "output_type": "execute_result"
    }
   ],
   "source": [
    "# Load .env\n",
    "load_dotenv(find_dotenv())"
   ]
  },
  {
   "cell_type": "markdown",
   "id": "32985211",
   "metadata": {},
   "source": [
    "# Connect to Postgre\n",
    "Create a new database session and return a new connection object. The basic connection parameters are:\n",
    "\n",
    "- dbname – the database name (database is a deprecated alias)\n",
    "- user – user name used to authenticate\n",
    "- password – password used to authenticate\n",
    "- host – database host address (defaults to UNIX socket if not provided)\n",
    "- port – connection port number (defaults to 5432 if not provided)"
   ]
  },
  {
   "cell_type": "code",
   "execution_count": 31,
   "id": "bc45fe24",
   "metadata": {},
   "outputs": [],
   "source": [
    "# conn stand for connection\n",
    "conn = psycopg2.connect(\n",
    "    dbname = \"Psycopg\",\n",
    "    user = os.getenv(\"DATABASE_USERNAME\"),\n",
    "    password = os.getenv(\"DATABASE_PASSWORD\"),\n",
    "    host = os.getenv(\"DATABASE_HOST\"),\n",
    "    port = os.getenv(\"DATABASE_PORT\")\n",
    ")"
   ]
  },
  {
   "cell_type": "markdown",
   "id": "55f89eb1",
   "metadata": {},
   "source": [
    "# Create Cursor\n",
    "Allows Python code to execute PostgreSQL command in a database session. Cursors are created by the connection.cursor() method: they are bound to the connection for the entire lifetime and all the commands are executed in the context of the database session wrapped by the connection. Cursor Method are:\n",
    "\n",
    "- execute <br>\n",
    "    DML, dan DDL yang outputnya cuma 1\n",
    "- executemany<br>\n",
    "    DML, dan DDL yang outputnya cuma tergantung n\n",
    "- fetchone<br>\n",
    "    read data dan menampilkan 1 hasil\n",
    "- fetchmany<br>\n",
    "    read data dan menampilkan n hasil\n",
    "- fetchall<br>\n",
    "    read data dan menampilkan semua hasil"
   ]
  },
  {
   "cell_type": "code",
   "execution_count": 32,
   "id": "a1deb666",
   "metadata": {},
   "outputs": [],
   "source": [
    "cur = conn.cursor()"
   ]
  },
  {
   "cell_type": "markdown",
   "id": "4306d517",
   "metadata": {},
   "source": [
    "# Create table on selected Database"
   ]
  },
  {
   "cell_type": "code",
   "execution_count": 23,
   "id": "f3a8b4cf",
   "metadata": {},
   "outputs": [],
   "source": [
    "cur.execute('''\n",
    "    CREATE TABLE regions(\n",
    "        region_id INT PRIMARY KEY,\n",
    "        region_name VARCHAR(50)\n",
    "    );\n",
    "'''\n",
    ")\n",
    "\n",
    "conn.commit()"
   ]
  },
  {
   "cell_type": "markdown",
   "id": "d09899aa",
   "metadata": {},
   "source": [
    "# Insert Data"
   ]
  },
  {
   "cell_type": "code",
   "execution_count": 33,
   "id": "da48cac0",
   "metadata": {},
   "outputs": [],
   "source": [
    "cur.execute(\n",
    "    '''\n",
    "    INSERT INTO regions(region_id, region_name)\n",
    "    VALUES (2, 'Australia')\n",
    "    '''\n",
    ")\n",
    "\n",
    "conn.commit()"
   ]
  },
  {
   "cell_type": "code",
   "execution_count": 30,
   "id": "4f3a3a19",
   "metadata": {},
   "outputs": [],
   "source": [
    "# Close Connection\n",
    "cur.close()\n",
    "conn.close()"
   ]
  }
 ],
 "metadata": {
  "kernelspec": {
   "display_name": "Python 3 (ipykernel)",
   "language": "python",
   "name": "python3"
  },
  "language_info": {
   "codemirror_mode": {
    "name": "ipython",
    "version": 3
   },
   "file_extension": ".py",
   "mimetype": "text/x-python",
   "name": "python",
   "nbconvert_exporter": "python",
   "pygments_lexer": "ipython3",
   "version": "3.9.12"
  }
 },
 "nbformat": 4,
 "nbformat_minor": 5
}
