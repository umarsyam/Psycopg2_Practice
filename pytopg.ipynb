{
 "cells": [
  {
   "cell_type": "markdown",
   "id": "1588a9b7",
   "metadata": {},
   "source": [
    "# Install Library"
   ]
  },
  {
   "cell_type": "code",
   "execution_count": 1,
   "id": "ceaf7e72",
   "metadata": {},
   "outputs": [],
   "source": [
    "#!pip install psycopg2-binary\n",
    "#!pip install python-dotenv"
   ]
  },
  {
   "cell_type": "code",
   "execution_count": 2,
   "id": "391a290c",
   "metadata": {},
   "outputs": [],
   "source": [
    "# Import Library\n",
    "import psycopg2\n",
    "import os\n",
    "from dotenv import load_dotenv, find_dotenv"
   ]
  },
  {
   "cell_type": "code",
   "execution_count": 3,
   "id": "4f5bbb06",
   "metadata": {},
   "outputs": [
    {
     "data": {
      "text/plain": [
       "True"
      ]
     },
     "execution_count": 3,
     "metadata": {},
     "output_type": "execute_result"
    }
   ],
   "source": [
    "# Load .env\n",
    "load_dotenv(find_dotenv())"
   ]
  },
  {
   "cell_type": "markdown",
   "id": "32985211",
   "metadata": {},
   "source": [
    "# Connect to Postgre\n",
    "Create a new database session and return a new connection object. The basic connection parameters are:\n",
    "\n",
    "- dbname – the database name (database is a deprecated alias)\n",
    "- user – user name used to authenticate\n",
    "- password – password used to authenticate\n",
    "- host – database host address (defaults to UNIX socket if not provided)\n",
    "- port – connection port number (defaults to 5432 if not provided)"
   ]
  },
  {
   "cell_type": "code",
   "execution_count": 4,
   "id": "bc45fe24",
   "metadata": {},
   "outputs": [],
   "source": [
    "# conn stand for connection\n",
    "conn = psycopg2.connect(\n",
    "    dbname = \"Psycopg\",\n",
    "    user = os.getenv(\"DATABASE_USERNAME\"),\n",
    "    password = os.getenv(\"DATABASE_PASSWORD\"),\n",
    "    host = os.getenv(\"DATABASE_HOST\"),\n",
    "    port = os.getenv(\"DATABASE_PORT\")\n",
    ")"
   ]
  },
  {
   "cell_type": "markdown",
   "id": "55f89eb1",
   "metadata": {},
   "source": [
    "# Create Cursor\n",
    "Allows Python code to execute PostgreSQL command in a database session. Cursors are created by the connection.cursor() method: they are bound to the connection for the entire lifetime and all the commands are executed in the context of the database session wrapped by the connection. Cursor Method are:\n",
    "\n",
    "- execute <br>\n",
    "    DML, dan DDL yang outputnya cuma 1\n",
    "- executemany<br>\n",
    "    DML, dan DDL yang outputnya cuma tergantung n\n",
    "- fetchone<br>\n",
    "    read data dan menampilkan 1 hasil\n",
    "- fetchmany<br>\n",
    "    read data dan menampilkan n hasil\n",
    "- fetchall<br>\n",
    "    read data dan menampilkan semua hasil"
   ]
  },
  {
   "cell_type": "code",
   "execution_count": 5,
   "id": "a1deb666",
   "metadata": {},
   "outputs": [],
   "source": [
    "cur = conn.cursor()"
   ]
  },
  {
   "cell_type": "markdown",
   "id": "4306d517",
   "metadata": {},
   "source": [
    "# Create table on selected Database"
   ]
  },
  {
   "cell_type": "code",
   "execution_count": 23,
   "id": "f3a8b4cf",
   "metadata": {},
   "outputs": [],
   "source": [
    "cur.execute('''\n",
    "    CREATE TABLE regions(\n",
    "        region_id INT PRIMARY KEY,\n",
    "        region_name VARCHAR(50)\n",
    "    );\n",
    "'''\n",
    ")\n",
    "\n",
    "conn.commit()"
   ]
  },
  {
   "cell_type": "markdown",
   "id": "d09899aa",
   "metadata": {},
   "source": [
    "# Insert Data"
   ]
  },
  {
   "cell_type": "code",
   "execution_count": 34,
   "id": "da48cac0",
   "metadata": {},
   "outputs": [],
   "source": [
    "cur.execute(\n",
    "    '''\n",
    "    INSERT INTO regions(region_id, region_name)\n",
    "    VALUES (3, 'Europe')\n",
    "    '''\n",
    ")\n",
    "\n",
    "conn.commit()"
   ]
  },
  {
   "cell_type": "markdown",
   "id": "58b72da8",
   "metadata": {},
   "source": [
    "# Read Data\n",
    "Read data ada 2 cara \n",
    "- fetch\n",
    "- pandas_read_sql_query"
   ]
  },
  {
   "cell_type": "markdown",
   "id": "9266fe08",
   "metadata": {},
   "source": [
    "## Fetch"
   ]
  },
  {
   "cell_type": "code",
   "execution_count": 10,
   "id": "19fdff1f",
   "metadata": {},
   "outputs": [
    {
     "data": {
      "text/plain": [
       "(2, 'Australia')"
      ]
     },
     "execution_count": 10,
     "metadata": {},
     "output_type": "execute_result"
    }
   ],
   "source": [
    "#Fetchone\n",
    "cur.execute(\"SELECT * FROM regions;\")\n",
    "\n",
    "#Print syntax result 1 result\n",
    "cur.fetchone()"
   ]
  },
  {
   "cell_type": "code",
   "execution_count": 15,
   "id": "154b3658",
   "metadata": {},
   "outputs": [
    {
     "data": {
      "text/plain": [
       "[(2, 'Australia'), (1, 'Asia')]"
      ]
     },
     "execution_count": 15,
     "metadata": {},
     "output_type": "execute_result"
    }
   ],
   "source": [
    "#Fetch Many\n",
    "cur.execute(\"SELECT * FROM regions;\")\n",
    "\n",
    "cur.fetchmany(2)"
   ]
  },
  {
   "cell_type": "code",
   "execution_count": 30,
   "id": "344484f4",
   "metadata": {},
   "outputs": [
    {
     "data": {
      "text/plain": [
       "[(1, 'Asia'), (3, 'Europe'), (2, 'Asia Pacific')]"
      ]
     },
     "execution_count": 30,
     "metadata": {},
     "output_type": "execute_result"
    }
   ],
   "source": [
    "#Fetch All\n",
    "cur.execute(\"SELECT * FROM regions;\")\n",
    "\n",
    "cur.fetchall()"
   ]
  },
  {
   "cell_type": "markdown",
   "id": "a998636b",
   "metadata": {},
   "source": [
    "## Pandas"
   ]
  },
  {
   "cell_type": "code",
   "execution_count": null,
   "id": "7f1c7791",
   "metadata": {},
   "outputs": [],
   "source": [
    "#Install Library\n",
    "!pip install pandas"
   ]
  },
  {
   "cell_type": "code",
   "execution_count": 21,
   "id": "ef054e06",
   "metadata": {},
   "outputs": [],
   "source": [
    "#Import Library\n",
    "import pandas as pdb"
   ]
  },
  {
   "cell_type": "code",
   "execution_count": 28,
   "id": "a1edf2e5",
   "metadata": {},
   "outputs": [
    {
     "name": "stderr",
     "output_type": "stream",
     "text": [
      "C:\\Users\\Umar Syam\\anaconda3\\lib\\site-packages\\pandas\\io\\sql.py:761: UserWarning: pandas only support SQLAlchemy connectable(engine/connection) ordatabase string URI or sqlite3 DBAPI2 connectionother DBAPI2 objects are not tested, please consider using SQLAlchemy\n",
      "  warnings.warn(\n"
     ]
    }
   ],
   "source": [
    "show_region_by_id_desc = pd.read_sql_query('''\n",
    "    SELECT\n",
    "        *\n",
    "    FROM\n",
    "        regions\n",
    "    ORDER BY region_id DESC;\n",
    "''', conn)"
   ]
  },
  {
   "cell_type": "code",
   "execution_count": 29,
   "id": "9e5ed410",
   "metadata": {},
   "outputs": [
    {
     "data": {
      "text/html": [
       "<div>\n",
       "<style scoped>\n",
       "    .dataframe tbody tr th:only-of-type {\n",
       "        vertical-align: middle;\n",
       "    }\n",
       "\n",
       "    .dataframe tbody tr th {\n",
       "        vertical-align: top;\n",
       "    }\n",
       "\n",
       "    .dataframe thead th {\n",
       "        text-align: right;\n",
       "    }\n",
       "</style>\n",
       "<table border=\"1\" class=\"dataframe\">\n",
       "  <thead>\n",
       "    <tr style=\"text-align: right;\">\n",
       "      <th></th>\n",
       "      <th>region_id</th>\n",
       "      <th>region_name</th>\n",
       "    </tr>\n",
       "  </thead>\n",
       "  <tbody>\n",
       "    <tr>\n",
       "      <th>0</th>\n",
       "      <td>3</td>\n",
       "      <td>Europe</td>\n",
       "    </tr>\n",
       "    <tr>\n",
       "      <th>1</th>\n",
       "      <td>2</td>\n",
       "      <td>Asia Pacific</td>\n",
       "    </tr>\n",
       "    <tr>\n",
       "      <th>2</th>\n",
       "      <td>1</td>\n",
       "      <td>Asia</td>\n",
       "    </tr>\n",
       "  </tbody>\n",
       "</table>\n",
       "</div>"
      ],
      "text/plain": [
       "   region_id   region_name\n",
       "0          3        Europe\n",
       "1          2  Asia Pacific\n",
       "2          1          Asia"
      ]
     },
     "execution_count": 29,
     "metadata": {},
     "output_type": "execute_result"
    }
   ],
   "source": [
    "show_region_by_id_desc"
   ]
  },
  {
   "cell_type": "markdown",
   "id": "c7233a99",
   "metadata": {},
   "source": [
    "# Update Data"
   ]
  },
  {
   "cell_type": "code",
   "execution_count": 27,
   "id": "864464d0",
   "metadata": {},
   "outputs": [],
   "source": [
    "cur.execute(\"\"\"\n",
    "    UPDATE regions\n",
    "    SET region_name = 'Asia Pacific'\n",
    "    WHERE region_id = 2\n",
    "\"\"\")"
   ]
  },
  {
   "cell_type": "code",
   "execution_count": 36,
   "id": "35267e03",
   "metadata": {},
   "outputs": [
    {
     "data": {
      "text/plain": [
       "[(1, 'Asia'), (2, 'Asia Pacific'), (3, 'Europe')]"
      ]
     },
     "execution_count": 36,
     "metadata": {},
     "output_type": "execute_result"
    }
   ],
   "source": [
    "#Fetch All\n",
    "cur.execute(\"SELECT * FROM regions;\")\n",
    "\n",
    "cur.fetchall()"
   ]
  },
  {
   "cell_type": "markdown",
   "id": "8a5b6fc7",
   "metadata": {},
   "source": [
    "# Delete Data"
   ]
  },
  {
   "cell_type": "code",
   "execution_count": 37,
   "id": "4b511639",
   "metadata": {},
   "outputs": [],
   "source": [
    "cur.execute('''\n",
    "    DELETE FROM regions\n",
    "    WHERE region_name = 'Europe';\n",
    "''')"
   ]
  },
  {
   "cell_type": "code",
   "execution_count": 38,
   "id": "382e8355",
   "metadata": {},
   "outputs": [
    {
     "data": {
      "text/plain": [
       "[(1, 'Asia'), (2, 'Asia Pacific')]"
      ]
     },
     "execution_count": 38,
     "metadata": {},
     "output_type": "execute_result"
    }
   ],
   "source": [
    "#Fetch All\n",
    "cur.execute(\"SELECT * FROM regions;\")\n",
    "\n",
    "cur.fetchall()"
   ]
  },
  {
   "cell_type": "code",
   "execution_count": null,
   "id": "609dd729",
   "metadata": {},
   "outputs": [],
   "source": [
    "# Close Connection\n",
    "cur.close()\n",
    "conn.close()"
   ]
  }
 ],
 "metadata": {
  "kernelspec": {
   "display_name": "Python 3 (ipykernel)",
   "language": "python",
   "name": "python3"
  },
  "language_info": {
   "codemirror_mode": {
    "name": "ipython",
    "version": 3
   },
   "file_extension": ".py",
   "mimetype": "text/x-python",
   "name": "python",
   "nbconvert_exporter": "python",
   "pygments_lexer": "ipython3",
   "version": "3.9.12"
  }
 },
 "nbformat": 4,
 "nbformat_minor": 5
}
